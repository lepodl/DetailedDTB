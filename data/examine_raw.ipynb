{
 "cells": [
  {
   "cell_type": "code",
   "execution_count": 1,
   "outputs": [],
   "source": [
    "import matplotlib.pyplot as plt\n",
    "import numpy as np\n",
    "import pickle\n",
    "import sparse\n",
    "import h5py"
   ],
   "metadata": {
    "collapsed": false,
    "pycharm": {
     "name": "#%%\n"
    }
   }
  },
  {
   "cell_type": "markdown",
   "source": [
    "# Load file, the cortex model of voxel level"
   ],
   "metadata": {
    "collapsed": false,
    "pycharm": {
     "name": "#%% md\n"
    }
   }
  },
  {
   "cell_type": "code",
   "execution_count": 5,
   "outputs": [
    {
     "name": "stdout",
     "output_type": "stream",
     "text": [
      "density 0.01733077658909178\n",
      "size 16043\n"
     ]
    }
   ],
   "source": [
    "file = h5py.File(\"raw_data/NSR_data_May22.mat\", \"r\")\n",
    "dti = file[\"NSR_dti_net_full\"][:]  # voxel to voxoel\n",
    "gm = file[\"NSR_dti_grey_matter\"][:].squeeze()  # gray matter at voxel level\n",
    "synapse_scale = file[\"NSR_voxel_Synapsis\"][:].squeeze()  # synapse scale at voxel level\n",
    "\n",
    "conn = dti / dti.sum(axis=1, keepdims=True)\n",
    "conn = sparse.COO(conn)\n",
    "dti = sparse.COO(dti)\n",
    "num_voxel = gm.shape[0]\n",
    "print(\"density\", dti.density)\n",
    "print(\"size\", gm.shape[0])"
   ],
   "metadata": {
    "collapsed": false,
    "pycharm": {
     "name": "#%%\n"
    }
   }
  },
  {
   "cell_type": "code",
   "execution_count": 9,
   "outputs": [
    {
     "data": {
      "text/plain": "Text(0.5, 0, 'dti')"
     },
     "execution_count": 9,
     "metadata": {},
     "output_type": "execute_result"
    },
    {
     "data": {
      "text/plain": "<Figure size 864x288 with 3 Axes>",
      "image/png": "[encoded data removed]"
     },
     "metadata": {
      "needs_background": "light"
     },
     "output_type": "display_data"
    }
   ],
   "source": [
    "cmap = plt.cm.viridis_r\n",
    "fig, ax = plt.subplots(1, 3, figsize=(12, 4))\n",
    "ax = ax.flatten()\n",
    "cnts, values, bars = ax[0].hist(synapse_scale, bins=30, rwidth=0.8, log=False)\n",
    "newvalue = (synapse_scale - synapse_scale.min()) / (synapse_scale.max() - synapse_scale.min())\n",
    "for i, (cnt, value, bar) in enumerate(zip(cnts, values, bars)):\n",
    "    bar.set_facecolor(cmap(newvalue[i]))\n",
    "ax[0].text(0.1, 1.0, f\"min{synapse_scale.min():.1f}->max{synapse_scale.max():.1f}\", transform=ax[0].transAxes, va='top',fontsize=12,\n",
    "          bbox={'color':'r','alpha':0.4,})\n",
    "ax[0].set_xlabel(\"synapse scale\")\n",
    "\n",
    "cnts1, values1, bars1 = ax[1].hist(gm, bins=30, rwidth=0.8)\n",
    "newvalue = (gm - gm.min()) / (gm.max() - gm.min())\n",
    "for i, (cnt, value, bar) in enumerate(zip(cnts1, values1, bars1)):\n",
    "    bar.set_facecolor(cmap(newvalue[i]))\n",
    "ax[1].text(0.1, 1.0, f\"min{gm.min():.2f}->max{gm.max():.2f}\", transform=ax[1].transAxes, va='top',fontsize=12,\n",
    "          bbox={'color':'r','alpha':0.4,})\n",
    "ax[1].set_xlabel(\"gm\")\n",
    "\n",
    "cnts1, values1, bars1 = ax[2].hist(dti.data, bins=30, rwidth=0.8, log=True)\n",
    "newvalue = (dti.data - dti.data.min()) / (dti.data.max() - dti.data.min())\n",
    "for i, (cnt, value, bar) in enumerate(zip(cnts1, values1, bars1)):\n",
    "    bar.set_facecolor(cmap(newvalue[i]))\n",
    "ax[2].text(0.1, 1.0, f\"min{dti.data.min():.2f}->max{dti.data.max():.2f}\", transform=ax[2].transAxes, va='top',fontsize=12,\n",
    "          bbox={'color':'r','alpha':0.4,})\n",
    "ax[2].set_xlabel(\"dti\")"
   ],
   "metadata": {
    "collapsed": false,
    "pycharm": {
     "name": "#%%\n"
    }
   }
  },
  {
   "cell_type": "markdown",
   "source": [
    "# Process to population level"
   ],
   "metadata": {
    "collapsed": false,
    "pycharm": {
     "name": "#%% md\n"
    }
   }
  },
  {
   "cell_type": "markdown",
   "source": [
    "## suppose:\n",
    "- the same neuronal density among cortical voxels and thus number of neurons in each voxel is proportional to the gray matter.\n",
    "- the synapse scale is the related correlation of total synapse to voxels.\n",
    "- the local connectivity is wired according to the mciro-circuit, and the voxel-voxel connectivity is obeying the correlation as DTI.\n",
    "- the inner/outer synapse for voxel of V1 is 2.8/1 (originated from 10*11 table of micro-circuit), and we can compute the outer ratio for other voxel $r_{j}$ by\n",
    "$$\\dfrac{syn_{v1} * r_{v1}}{syn_{j} * r_{j}}=\\dfrac{\\text{row sum}\\,dti_{v1}}{\\text{row sum}\\,dti_{j}}$$\n",
    "\n",
    "### The fourth point design has not been used"
   ],
   "metadata": {
    "collapsed": false,
    "pycharm": {
     "name": "#%% md\n"
    }
   }
  },
  {
   "cell_type": "code",
   "execution_count": 14,
   "outputs": [],
   "source": [
    "def _add_laminar_cortex_model(conn_prob, gm, synapse):\n",
    "    \"\"\"\n",
    "    Process the connection probability matrix, grey matter and degree scale for DTB with pure voxel and micro-column\n",
    "    structure.  Each voxel is split into 2 populations (E and I). Each micro-column is spilt into 10 populations\n",
    "    (L1E, L1I, L2/3E, L2/3I, L4E, L4I, L5E, L5I, L6E, L6I).\n",
    "\n",
    "    Parameters\n",
    "    ----------\n",
    "    conn_prob: numpy.ndarray, shape [N, N]\n",
    "        the connectivity probability matrix between N voxels/micro-columns.\n",
    "\n",
    "    gm: numpy.ndarray, shape [N]\n",
    "        the normalized grey matter in each voxel/micro-column.\n",
    "\n",
    "    canonical_voxel: bool\n",
    "        Ture for voxel structure; False for micro-column structure.\n",
    "\n",
    "    Returns\n",
    "    -------\n",
    "    out_conn_prob: numpy.ndarray\n",
    "        connectivity probability matrix between populations (shape [2*N, 2*N] for voxel; shape[10*N, 10*N] for micro\n",
    "        -column) in the sparse matrix form.\n",
    "\n",
    "    out_gm: numpy.ndarray\n",
    "        grey matter for populations in DTB (shape [2*N] for voxel; shape[10*N] for micro-column).\n",
    "\n",
    "    out_degree_scale: numpy.ndarray\n",
    "        scale of degree for populations in DTB (shape [2*N] for voxel; shape[10*N] for micro-column).\n",
    "\n",
    "    \"\"\"\n",
    "    lcm_connect_prob = np.array([[0, 0, 0, 0, 0, 0, 0, 0, 0, 0, 0],\n",
    "                                 [0, 0, 0, 0, 0, 0, 0, 0, 0, 0, 0],\n",
    "                                 [0, 0, 3554, 804, 881, 45, 431, 0, 136, 0, 1020],\n",
    "                                 [0, 0, 1778, 532, 456, 29, 217, 0, 69, 0, 396],\n",
    "                                 [0, 0, 417, 84, 1070, 690, 79, 93, 1686, 0, 1489],\n",
    "                                 [0, 0, 168, 41, 628, 538, 36, 0, 1028, 0, 790],\n",
    "                                 [0, 0, 2550, 176, 765, 99, 621, 596, 363, 7, 1591],\n",
    "                                 [0, 0, 1357, 76, 380, 32, 375, 403, 129, 0, 214],\n",
    "                                 [0, 0, 643, 46, 549, 196, 327, 126, 925, 597, 2609],\n",
    "                                 [0, 0, 80, 8, 92, 3, 159, 11, 76, 499, 1794]], dtype=np.float64\n",
    "                                )\n",
    "\n",
    "    lcm_gm = np.array([0, 0,\n",
    "                       33.8 * 78, 33.8 * 22,\n",
    "                       34.9 * 80, 34.9 * 20,\n",
    "                       7.6 * 82, 7.6 * 18,\n",
    "                       22.1 * 83, 22.1 * 17], dtype=np.float64)  # ignore the L1 neurons\n",
    "    with np.errstate(divide='ignore', invalid='ignore'):\n",
    "        lcm_connect_prob = lcm_connect_prob * lcm_gm[:, None]\n",
    "        lcm_gm = lcm_gm / lcm_gm.sum()\n",
    "    weight = lcm_gm[::2]\n",
    "    weight = weight / weight.sum(axis=0)\n",
    "    weight = np.broadcast_to(weight, (conn_prob.data.shape[0], 5))\n",
    "\n",
    "\n",
    "    lcm_connect_prob = lcm_connect_prob / np.sum(lcm_connect_prob)\n",
    "    degree_scale = lcm_connect_prob.sum(axis=1) / lcm_connect_prob.sum()\n",
    "    degree_scale = synapse[:, None] * degree_scale[None, :]\n",
    "    degree_scale = degree_scale.reshape(-1)\n",
    "\n",
    "    corrds1 = np.empty(\n",
    "        [4, conn_prob.coords.shape[1] * lcm_connect_prob.shape[0] * int(lcm_connect_prob.shape[0] / 2)],\n",
    "        dtype=np.int64)\n",
    "    corrds1[3, :] = np.tile(np.repeat(np.arange(0, lcm_connect_prob.shape[0], 2), lcm_connect_prob.shape[0]),\n",
    "                            conn_prob.coords.shape[1]).reshape([1, -1])\n",
    "\n",
    "    corrds1[(0, 2), :] = np.broadcast_to(conn_prob.coords[:, :, None],\n",
    "                                         [2, conn_prob.coords.shape[1],\n",
    "                                          lcm_connect_prob.shape[0] * int(lcm_connect_prob.shape[0] / 2)]).reshape(\n",
    "        [2, -1])\n",
    "    corrds1[(1), :] = np.broadcast_to(np.arange(lcm_connect_prob.shape[0], dtype=np.int64)[None, :],\n",
    "                                      [conn_prob.coords.shape[1] * int(lcm_connect_prob.shape[0] / 2),\n",
    "                                       lcm_connect_prob.shape[0]]).reshape([1, -1])\n",
    "\n",
    "    data1 = conn_prob.data[:, None] * lcm_connect_prob[:, -1]\n",
    "    data1 = (data1[:, None, :] * weight[:, :, None]).reshape([-1])\n",
    "\n",
    "    lcm_connect_prob_inner = sparse.COO(lcm_connect_prob[:, :-1])\n",
    "    corrds2 = np.empty([4, conn_prob.shape[0] * lcm_connect_prob_inner.data.shape[0]], dtype=np.int64)\n",
    "    corrds2[0, :] = np.broadcast_to(np.arange(conn_prob.shape[0], dtype=np.int64)[:, None],\n",
    "                                    [conn_prob.shape[0], lcm_connect_prob_inner.data.shape[0]]).reshape([-1])\n",
    "    corrds2[2, :] = corrds2[0, :]\n",
    "    corrds2[(1, 3), :] = np.broadcast_to(lcm_connect_prob_inner.coords[:, None, :],\n",
    "                                         [2, conn_prob.shape[0], lcm_connect_prob_inner.coords.shape[1]]).reshape(\n",
    "        [2, -1])\n",
    "    data2 = np.reshape(np.broadcast_to(lcm_connect_prob_inner.data[None, :], (conn_prob.shape[0], lcm_connect_prob_inner.data.shape[0])), [-1])\n",
    "\n",
    "    coords = np.concatenate([corrds1, corrds2, ], axis=1)\n",
    "    data = np.concatenate([data1, data2], axis=0)\n",
    "    shape = [conn_prob.shape[0], lcm_connect_prob.shape[0], conn_prob.shape[1],\n",
    "             lcm_connect_prob.shape[1] - 1]\n",
    "\n",
    "    index = np.where(data)[0]\n",
    "    print(f\"process zero value in conn_prob {len(data)}-->{len(index)}\")\n",
    "    coords = coords[:, index]\n",
    "    data = data[index]\n",
    "\n",
    "    out_conn_prob = sparse.COO(coords=coords, data=data, shape=shape)\n",
    "    out_conn_prob = out_conn_prob.reshape((conn_prob.shape[0] * lcm_connect_prob.shape[0],\n",
    "                                           conn_prob.shape[1] * (lcm_connect_prob.shape[1] - 1)))\n",
    "\n",
    "    gm /= gm.sum()\n",
    "    out_gm = (gm[:, None] * lcm_gm[None, :]).reshape([-1])\n",
    "\n",
    "    return out_conn_prob, out_gm, degree_scale"
   ],
   "metadata": {
    "collapsed": false,
    "pycharm": {
     "name": "#%%\n"
    }
   }
  },
  {
   "cell_type": "code",
   "execution_count": 15,
   "outputs": [
    {
     "name": "stdout",
     "output_type": "stream",
     "text": [
      "process zero value in conn_prob 223926308-->143636264\n"
     ]
    },
    {
     "data": {
      "text/plain": "Text(0.5, 0, 'detailed degree')"
     },
     "execution_count": 15,
     "metadata": {},
     "output_type": "execute_result"
    },
    {
     "data": {
      "text/plain": "<Figure size 576x576 with 4 Axes>",
      "image/png": "[encoded data removed]"
     },
     "metadata": {
      "needs_background": "light"
     },
     "output_type": "display_data"
    }
   ],
   "source": [
    "degree = 100\n",
    "scale = int(1e9)\n",
    "\n",
    "conn_prob, block_size, degree_scale = _add_laminar_cortex_model(conn, gm, synapse_scale)\n",
    "\n",
    "hpc_label = file[\"NSR_dti_HCPex_label\"][:].squeeze()\n",
    "v1_index = np.where(hpc_label==181)[0]\n",
    "v1_synapse_scale = synapse_scale[v1_index].mean()\n",
    "# suppose v1 synapse is 100, then we assign number of synapse to all voxel\n",
    "degree_ = synapse_scale / v1_synapse_scale * degree\n",
    "\n",
    "popu_size = (block_size * scale).astype(np.int32)\n",
    "voxel_size = popu_size.reshape((-1, 10)).sum(axis=1)\n",
    "\n",
    "degree_detail = degree_[degree_<500]\n",
    "fig, ax= plt.subplots(2, 2, figsize=(8, 8))\n",
    "ax = ax.flatten()\n",
    "\n",
    "for idx, value in enumerate([voxel_size, popu_size, degree_, degree_detail]):\n",
    "    cnts, values, bars = ax[idx].hist(value, bins=30, rwidth=0.8)\n",
    "    newvalue = (value - value.min()) / (value.max() - value.min())\n",
    "    for i, (cnt, value_data, bar) in enumerate(zip(cnts, values, bars)):\n",
    "        bar.set_facecolor(cmap(newvalue[i]))\n",
    "    ax[idx].text(0.1, 1.0, f\"min{int(value.min())}->max{int(value.max())}\", transform=ax[idx].transAxes, va='top',fontsize=12,\n",
    "              bbox={'color':'r','alpha':0.4,})\n",
    "    ax[idx].set_xlabel(\"numbers\")\n",
    "ax[0].set_xlabel(\"voxel size\")\n",
    "ax[1].set_xlabel(\"population size\")\n",
    "ax[2].set_xlabel(\"population degree\")\n",
    "ax[3].set_xlabel(\"detailed degree\")"
   ],
   "metadata": {
    "collapsed": false,
    "pycharm": {
     "name": "#%%\n"
    }
   }
  },
  {
   "cell_type": "code",
   "execution_count": null,
   "outputs": [],
   "source": [],
   "metadata": {
    "collapsed": false,
    "pycharm": {
     "name": "#%%\n"
    }
   }
  }
 ],
 "metadata": {
  "kernelspec": {
   "display_name": "Python 3",
   "language": "python",
   "name": "python3"
  },
  "language_info": {
   "codemirror_mode": {
    "name": "ipython",
    "version": 2
   },
   "file_extension": ".py",
   "mimetype": "text/x-python",
   "name": "python",
   "nbconvert_exporter": "python",
   "pygments_lexer": "ipython2",
   "version": "2.7.6"
  }
 },
 "nbformat": 4,
 "nbformat_minor": 0
}