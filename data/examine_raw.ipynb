{
 "cells": [
  {
   "cell_type": "code",
   "execution_count": 1,
   "outputs": [],
   "source": [
    "import matplotlib.pyplot as plt\n",
    "import numpy as np\n",
    "import pickle\n",
    "import sparse\n",
    "import h5py\n",
    "import os"
   ],
   "metadata": {
    "collapsed": false,
    "pycharm": {
     "name": "#%%\n"
    }
   }
  },
  {
   "cell_type": "markdown",
   "source": [
    "# Load file, the cortex model of voxel level"
   ],
   "metadata": {
    "collapsed": false,
    "pycharm": {
     "name": "#%% md\n"
    }
   }
  },
  {
   "cell_type": "code",
   "execution_count": 2,
   "outputs": [
    {
     "name": "stdout",
     "output_type": "stream",
     "text": [
      "density 0.01733077658909178\n",
      "size 16043\n"
     ]
    }
   ],
   "source": [
    "file = h5py.File(\"raw_data/NSR_data_May22.mat\", \"r\")\n",
    "dti = file[\"NSR_dti_net_full\"][:]  # voxel to voxoel\n",
    "gm = file[\"NSR_dti_grey_matter\"][:].squeeze()  # gray matter at voxel level\n",
    "synapse_scale = file[\"NSR_voxel_Synapsis\"][:].squeeze()  # synapse scale at voxel level\n",
    "brain_parts = file['NSR_dti_brainpart'][:].squeeze() # cortex + sub-cortex\n",
    "hpc_label = file[\"NSR_dti_HCPex_label\"][:].squeeze()\n",
    "index_cor = np.where(brain_parts==1)[0]\n",
    "\n",
    "# if we only consider cortex\n",
    "# dti = dti[index_cor, :]\n",
    "# dti = dti[:, index_cor]\n",
    "# nonzero = np.where(dti.sum(axis=1)>0)[0]\n",
    "# dti = dti[nonzero, :]\n",
    "# dti = dti[:, nonzero]\n",
    "# dti[dti>1400] = 1400  # for avoiding large numbers in dti\n",
    "# index = index_cor[nonzero]\n",
    "# conn = dti / dti.sum(axis=1, keepdims=True)\n",
    "# conn = sparse.COO(conn)\n",
    "# dti = sparse.COO(dti)\n",
    "# gm = gm[index]\n",
    "# hpc_label = hpc_label[index]\n",
    "# synapse_scale = synapse_scale[index]\n",
    "\n",
    "assert (dti.sum(axis=1) >0).all()\n",
    "conn = dti / dti.sum(axis=1, keepdims=True)\n",
    "conn = sparse.COO(conn)\n",
    "dti = sparse.COO(dti)\n",
    "\n",
    "num_voxel = gm.shape[0]\n",
    "print(\"density\", dti.density)\n",
    "print(\"size\", gm.shape[0])"
   ],
   "metadata": {
    "collapsed": false,
    "pycharm": {
     "name": "#%%\n"
    }
   }
  },
  {
   "cell_type": "code",
   "execution_count": 3,
   "outputs": [
    {
     "data": {
      "text/plain": "<KeysViewHDF5 ['NSR_Auditory_Task', 'NSR_Resting_state', 'NSR_Visual_Task', 'NSR_dti_HCPex_label', 'NSR_dti_brainpart', 'NSR_dti_grey_matter', 'NSR_dti_label_num', 'NSR_dti_net_full', 'NSR_voxel_Synapsis', 'NSR_voxel_xyz']>"
     },
     "execution_count": 3,
     "metadata": {},
     "output_type": "execute_result"
    }
   ],
   "source": [
    "file.keys()"
   ],
   "metadata": {
    "collapsed": false,
    "pycharm": {
     "name": "#%%\n"
    }
   }
  },
  {
   "cell_type": "code",
   "execution_count": 5,
   "outputs": [
    {
     "data": {
      "text/plain": "array([[ 5277.,  5290.,  5305., ..., 51478., 51524., 51569.]])"
     },
     "execution_count": 5,
     "metadata": {},
     "output_type": "execute_result"
    }
   ],
   "source": [
    "file[\"NSR_dti_label_num\"][:]\n"
   ],
   "metadata": {
    "collapsed": false,
    "pycharm": {
     "name": "#%%\n"
    }
   }
  },
  {
   "cell_type": "code",
   "execution_count": 14,
   "outputs": [
    {
     "data": {
      "text/plain": "Text(0.5, 0, 'dti_row_sum')"
     },
     "execution_count": 14,
     "metadata": {},
     "output_type": "execute_result"
    },
    {
     "data": {
      "text/plain": "<Figure size 864x216 with 4 Axes>",
      "image/png": "[encoded data removed]"
     },
     "metadata": {
      "needs_background": "light"
     },
     "output_type": "display_data"
    }
   ],
   "source": [
    "cmap = plt.cm.viridis_r\n",
    "fig, ax = plt.subplots(1, 4, figsize=(12, 3))\n",
    "ax = ax.flatten()\n",
    "cnts, values, bars = ax[0].hist(synapse_scale, bins=30, rwidth=0.8, log=False)\n",
    "newvalue = (synapse_scale - synapse_scale.min()) / (synapse_scale.max() - synapse_scale.min())\n",
    "for i, (cnt, value, bar) in enumerate(zip(cnts, values, bars)):\n",
    "    bar.set_facecolor(cmap(newvalue[i]))\n",
    "ax[0].text(0.1, 1.0, f\"min{synapse_scale.min():.1f}->max{synapse_scale.max():.1f}\", transform=ax[0].transAxes, va='top',fontsize=12,\n",
    "          bbox={'color':'r','alpha':0.4,})\n",
    "ax[0].set_xlabel(\"synapse scale\")\n",
    "\n",
    "cnts1, values1, bars1 = ax[1].hist(gm, bins=30, rwidth=0.8)\n",
    "newvalue = (gm - gm.min()) / (gm.max() - gm.min())\n",
    "for i, (cnt, value, bar) in enumerate(zip(cnts1, values1, bars1)):\n",
    "    bar.set_facecolor(cmap(newvalue[i]))\n",
    "ax[1].text(0.1, 1.0, f\"min{gm.min():.2f}->max{gm.max():.2f}\", transform=ax[1].transAxes, va='top',fontsize=12,\n",
    "          bbox={'color':'r','alpha':0.4,})\n",
    "ax[1].set_xlabel(\"gm\")\n",
    "\n",
    "cnts1, values1, bars1 = ax[2].hist(dti.data, bins=30, rwidth=0.8, log=True)\n",
    "newvalue = (dti.data - dti.data.min()) / (dti.data.max() - dti.data.min())\n",
    "for i, (cnt, value, bar) in enumerate(zip(cnts1, values1, bars1)):\n",
    "    bar.set_facecolor(cmap(newvalue[i]))\n",
    "ax[2].text(0.1, 1.0, f\"min{dti.data.min():.2f}->max{dti.data.max():.2f}\", transform=ax[2].transAxes, va='top',fontsize=12,\n",
    "          bbox={'color':'r','alpha':0.4,})\n",
    "ax[2].set_xlabel(\"dti\")\n",
    "\n",
    "dti_row_sum = dti.sum(axis=1)\n",
    "dti_row_sum = dti_row_sum.data\n",
    "dti_row_sum = dti_row_sum[~np.isnan(dti_row_sum)]\n",
    "cnts1, values1, bars1 = ax[3].hist(dti_row_sum, bins=30, rwidth=0.8, log=True)\n",
    "newvalue = (dti_row_sum - dti_row_sum.min()) / (dti_row_sum.max() - dti_row_sum.min())\n",
    "for i, (cnt, value, bar) in enumerate(zip(cnts1, values1, bars1)):\n",
    "    bar.set_facecolor(cmap(newvalue[i]))\n",
    "ax[3].text(0.1, 1.0, f\"min{dti_row_sum.min():.2f}->max{dti_row_sum.max():.2f}\", transform=ax[3].transAxes, va='top',fontsize=12,\n",
    "          bbox={'color':'r','alpha':0.4,})\n",
    "ax[3].set_xlabel(\"dti_row_sum\")"
   ],
   "metadata": {
    "collapsed": false,
    "pycharm": {
     "name": "#%%\n"
    }
   }
  },
  {
   "cell_type": "markdown",
   "source": [
    "# Process to population level"
   ],
   "metadata": {
    "collapsed": false,
    "pycharm": {
     "name": "#%% md\n"
    }
   }
  },
  {
   "cell_type": "markdown",
   "source": [
    "## suppose:\n",
    "- the same neuronal density among cortical voxels and thus number of neurons in each voxel is proportional to the gray matter.\n",
    "- the synapse scale is the related correlation of total synapse to voxels.\n",
    "- the local connectivity is wired according to the mciro-circuit, and the voxel-voxel connectivity is obeying the correlation as DTI.\n",
    "- the inner/outer synapse for voxel of V1 is 2.8/1 (originated from 10*11 table of micro-circuit), and we can compute the outer ratio for other voxel $r_{j}$ by\n",
    "$$\\dfrac{syn_{v1} * r_{v1}}{syn_{j} * r_{j}}=\\dfrac{\\text{row sum}\\,dti_{v1}}{\\text{row sum}\\,dti_{j}}$$\n",
    "\n",
    "### The fourth point design has not been used"
   ],
   "metadata": {
    "collapsed": false,
    "pycharm": {
     "name": "#%% md\n"
    }
   }
  },
  {
   "cell_type": "code",
   "execution_count": 15,
   "outputs": [],
   "source": [
    "def _add_laminar_cortex_model(conn_prob, gm, synapse):\n",
    "    \"\"\"\n",
    "    Process the connection probability matrix, grey matter and degree scale for DTB with pure voxel and micro-column\n",
    "    structure.  Each voxel is split into 2 populations (E and I). Each micro-column is spilt into 10 populations\n",
    "    (L1E, L1I, L2/3E, L2/3I, L4E, L4I, L5E, L5I, L6E, L6I).\n",
    "\n",
    "    Parameters\n",
    "    ----------\n",
    "    conn_prob: numpy.ndarray, shape [N, N]\n",
    "        the connectivity probability matrix between N voxels/micro-columns.\n",
    "\n",
    "    gm: numpy.ndarray, shape [N]\n",
    "        the normalized grey matter in each voxel/micro-column.\n",
    "\n",
    "    canonical_voxel: bool\n",
    "        Ture for voxel structure; False for micro-column structure.\n",
    "\n",
    "    Returns\n",
    "    -------\n",
    "    out_conn_prob: numpy.ndarray\n",
    "        connectivity probability matrix between populations (shape [2*N, 2*N] for voxel; shape[10*N, 10*N] for micro\n",
    "        -column) in the sparse matrix form.\n",
    "\n",
    "    out_gm: numpy.ndarray\n",
    "        grey matter for populations in DTB (shape [2*N] for voxel; shape[10*N] for micro-column).\n",
    "\n",
    "    out_degree_scale: numpy.ndarray\n",
    "        scale of degree for populations in DTB (shape [2*N] for voxel; shape[10*N] for micro-column).\n",
    "\n",
    "    \"\"\"\n",
    "    lcm_connect_prob = np.array([[0, 0, 0, 0, 0, 0, 0, 0, 0, 0, 0],\n",
    "                                 [0, 0, 0, 0, 0, 0, 0, 0, 0, 0, 0],\n",
    "                                 [0, 0, 3554, 804, 881, 45, 431, 0, 136, 0, 1020],\n",
    "                                 [0, 0, 1778, 532, 456, 29, 217, 0, 69, 0, 396],\n",
    "                                 [0, 0, 417, 84, 1070, 690, 79, 93, 1686, 0, 1489],\n",
    "                                 [0, 0, 168, 41, 628, 538, 36, 0, 1028, 0, 790],\n",
    "                                 [0, 0, 2550, 176, 765, 99, 621, 596, 363, 7, 1591],\n",
    "                                 [0, 0, 1357, 76, 380, 32, 375, 403, 129, 0, 214],\n",
    "                                 [0, 0, 643, 46, 549, 196, 327, 126, 925, 597, 2609],\n",
    "                                 [0, 0, 80, 8, 92, 3, 159, 11, 76, 499, 1794]], dtype=np.float64\n",
    "                                )\n",
    "\n",
    "    lcm_gm = np.array([0, 0,\n",
    "                       33.8 * 78, 33.8 * 22,\n",
    "                       34.9 * 80, 34.9 * 20,\n",
    "                       7.6 * 82, 7.6 * 18,\n",
    "                       22.1 * 83, 22.1 * 17], dtype=np.float64)  # ignore the L1 neurons\n",
    "    with np.errstate(divide='ignore', invalid='ignore'):\n",
    "        lcm_connect_prob = lcm_connect_prob * lcm_gm[:, None]\n",
    "        lcm_gm = lcm_gm / lcm_gm.sum()\n",
    "    weight = lcm_gm[::2]\n",
    "    weight = weight / weight.sum(axis=0)\n",
    "    weight = np.broadcast_to(weight, (conn_prob.data.shape[0], 5))\n",
    "\n",
    "\n",
    "    lcm_connect_prob = lcm_connect_prob / np.sum(lcm_connect_prob)\n",
    "    degree_scale = lcm_connect_prob.sum(axis=1) / lcm_connect_prob.sum()\n",
    "    degree_scale = synapse[:, None] * degree_scale[None, :]\n",
    "    degree_scale = degree_scale.reshape(-1)\n",
    "\n",
    "    corrds1 = np.empty(\n",
    "        [4, conn_prob.coords.shape[1] * lcm_connect_prob.shape[0] * int(lcm_connect_prob.shape[0] / 2)],\n",
    "        dtype=np.int64)\n",
    "    corrds1[3, :] = np.tile(np.repeat(np.arange(0, lcm_connect_prob.shape[0], 2), lcm_connect_prob.shape[0]),\n",
    "                            conn_prob.coords.shape[1]).reshape([1, -1])\n",
    "\n",
    "    corrds1[(0, 2), :] = np.broadcast_to(conn_prob.coords[:, :, None],\n",
    "                                         [2, conn_prob.coords.shape[1],\n",
    "                                          lcm_connect_prob.shape[0] * int(lcm_connect_prob.shape[0] / 2)]).reshape(\n",
    "        [2, -1])\n",
    "    corrds1[(1), :] = np.broadcast_to(np.arange(lcm_connect_prob.shape[0], dtype=np.int64)[None, :],\n",
    "                                      [conn_prob.coords.shape[1] * int(lcm_connect_prob.shape[0] / 2),\n",
    "                                       lcm_connect_prob.shape[0]]).reshape([1, -1])\n",
    "\n",
    "    data1 = conn_prob.data[:, None] * lcm_connect_prob[:, -1]\n",
    "    data1 = (data1[:, None, :] * weight[:, :, None]).reshape([-1])\n",
    "\n",
    "    lcm_connect_prob_inner = sparse.COO(lcm_connect_prob[:, :-1])\n",
    "    corrds2 = np.empty([4, conn_prob.shape[0] * lcm_connect_prob_inner.data.shape[0]], dtype=np.int64)\n",
    "    corrds2[0, :] = np.broadcast_to(np.arange(conn_prob.shape[0], dtype=np.int64)[:, None],\n",
    "                                    [conn_prob.shape[0], lcm_connect_prob_inner.data.shape[0]]).reshape([-1])\n",
    "    corrds2[2, :] = corrds2[0, :]\n",
    "    corrds2[(1, 3), :] = np.broadcast_to(lcm_connect_prob_inner.coords[:, None, :],\n",
    "                                         [2, conn_prob.shape[0], lcm_connect_prob_inner.coords.shape[1]]).reshape(\n",
    "        [2, -1])\n",
    "    data2 = np.reshape(np.broadcast_to(lcm_connect_prob_inner.data[None, :], (conn_prob.shape[0], lcm_connect_prob_inner.data.shape[0])), [-1])\n",
    "\n",
    "    coords = np.concatenate([corrds1, corrds2, ], axis=1)\n",
    "    data = np.concatenate([data1, data2], axis=0)\n",
    "    shape = [conn_prob.shape[0], lcm_connect_prob.shape[0], conn_prob.shape[1],\n",
    "             lcm_connect_prob.shape[1] - 1]\n",
    "\n",
    "    index = np.where(data)[0]\n",
    "    print(f\"process zero value in conn_prob {len(data)}-->{len(index)}\")\n",
    "    coords = coords[:, index]\n",
    "    data = data[index]\n",
    "\n",
    "    out_conn_prob = sparse.COO(coords=coords, data=data, shape=shape)\n",
    "    out_conn_prob = out_conn_prob.reshape((conn_prob.shape[0] * lcm_connect_prob.shape[0],\n",
    "                                           conn_prob.shape[1] * (lcm_connect_prob.shape[1] - 1)))\n",
    "\n",
    "    gm /= gm.sum()\n",
    "    out_gm = (gm[:, None] * lcm_gm[None, :]).reshape([-1])\n",
    "\n",
    "    return out_conn_prob, out_gm, degree_scale"
   ],
   "metadata": {
    "collapsed": false,
    "pycharm": {
     "name": "#%%\n"
    }
   }
  },
  {
   "cell_type": "code",
   "execution_count": 22,
   "outputs": [],
   "source": [
    "def _add_laminar_cortex_include_subcortical_in_whole_brain(conn_prob, gm, synapse_scale, brain_parts=None):\n",
    "    cortical = np.where(brain_parts==1)[0]\n",
    "    sub_cortical = np.where(brain_parts==2)[0]\n",
    "\n",
    "    lcm_connect_prob = np.array([[0, 0, 0, 0, 0, 0, 0, 0, 0, 0, 0],\n",
    "                                 [0, 0, 0, 0, 0, 0, 0, 0, 0, 0, 0],\n",
    "                                 [0, 0, 3554, 804, 881, 45, 431, 0, 136, 0, 1020],\n",
    "                                 [0, 0, 1778, 532, 456, 29, 217, 0, 69, 0, 396],\n",
    "                                 [0, 0, 417, 84, 1070, 690, 79, 93, 1686, 0, 1489],\n",
    "                                 [0, 0, 168, 41, 628, 538, 36, 0, 1028, 0, 790],\n",
    "                                 [0, 0, 2550, 176, 765, 99, 621, 596, 363, 7, 1591],\n",
    "                                 [0, 0, 1357, 76, 380, 32, 375, 403, 129, 0, 214],\n",
    "                                 [0, 0, 643, 46, 549, 196, 327, 126, 925, 597, 2609],\n",
    "                                 [0, 0, 80, 8, 92, 3, 159, 11, 76, 499, 1794]], dtype=np.float64\n",
    "                                )\n",
    "\n",
    "    # wenyong setting (0.3, 0.2, 0.5), cortical column is (4/7, 1/7, 2/7)\n",
    "    lcm_connect_prob_subcortical = np.array([[0, 0, 0, 0, 0, 0, 0, 0, 0, 0, 0],\n",
    "                                             [0, 0, 0, 0, 0, 0, 0, 0, 0, 0, 0],\n",
    "                                             [0, 0, 0, 0, 0, 0, 0, 0, 0, 0, 0],\n",
    "                                             [0, 0, 0, 0, 0, 0, 0, 0, 0, 0, 0],\n",
    "                                             [0, 0, 0, 0, 0, 0, 0, 0, 0, 0, 0],\n",
    "                                             [0, 0, 0, 0, 0, 0, 0, 0, 0, 0, 0],\n",
    "                                             [0, 0, 0, 0, 0, 0, 0.6, 0.15, 0, 0, 0.25],\n",
    "                                             [0, 0, 0, 0, 0, 0, 0.6, 0.15, 0, 0, 0.25],\n",
    "                                             [0, 0, 0, 0, 0, 0, 0, 0, 0, 0, 0],\n",
    "                                             [0, 0, 0, 0, 0, 0, 0, 0, 0, 0, 0],\n",
    "                                             ], dtype=np.float64)\n",
    "\n",
    "    lcm_gm = np.array([0, 0,\n",
    "                       33.8 * 78, 33.8 * 22,\n",
    "                       34.9 * 80, 34.9 * 20,\n",
    "                       7.6 * 82, 7.6 * 18,\n",
    "                       22.1 * 83, 22.1 * 17], dtype=np.float64)  # ignore the L1 neurons\n",
    "    lcm_gm /= lcm_gm.sum()\n",
    "\n",
    "    weight = lcm_gm[::2]\n",
    "    weight = weight / weight.sum(axis=0)\n",
    "    weight = np.broadcast_to(weight, (cortical.shape[0], 5))\n",
    "\n",
    "    with np.errstate(divide='ignore', invalid='ignore'):\n",
    "        syna_nums_in_lcm = lcm_connect_prob.sum(1) * lcm_gm\n",
    "        lcm_degree_scale = syna_nums_in_lcm / syna_nums_in_lcm.sum() / lcm_gm\n",
    "        lcm_degree_scale = np.where(np.isnan(lcm_degree_scale), 0, lcm_degree_scale)\n",
    "        lcm_connect_prob /= lcm_connect_prob.sum(axis=1, keepdims=True)\n",
    "        lcm_connect_prob = np.where(np.isnan(lcm_connect_prob), 0, lcm_connect_prob)\n",
    "\n",
    "    out_degree_scale = (lcm_degree_scale[None, :] * synapse_scale[:, None]).reshape(-1)\n",
    "\n",
    "    if isinstance(conn_prob, np.ndarray):\n",
    "        with np.errstate(divide='ignore', invalid='ignore'):\n",
    "            conn_prob[np.diag_indices(conn_prob.shape[0])] = 0\n",
    "            conn_prob = conn_prob / conn_prob.sum(axis=1, keepdims=True)\n",
    "        conn_prob[np.isnan(conn_prob)] = 0\n",
    "        N = len(conn_prob)\n",
    "        conn_prob = sparse.COO(conn_prob)\n",
    "    else:\n",
    "        N = conn_prob.shape[0]\n",
    "\n",
    "    assert N == cortical.shape[0] + sub_cortical.shape[0]\n",
    "    gm = gm / gm.sum()\n",
    "    out_gm = (gm[:, None] * lcm_gm[None, :]).reshape(\n",
    "        [-1])  # shape[cortical_voxel, 10] reshape to [10 * cortical_voxel]\n",
    "    for i in sub_cortical:\n",
    "        out_gm[10 * i:10 * (i + 1)] = 0.\n",
    "        out_gm[10 * i + 6] = gm[i] * 0.8\n",
    "        out_gm[10 * i + 7] = gm[i] * 0.2\n",
    "    weight_part = np.array([0., 0., 0., 1., 0.])\n",
    "    weight_part = np.broadcast_to(weight_part, (sub_cortical.shape[0], 5))\n",
    "\n",
    "    weight = np.concatenate([weight, weight_part], axis=0)\n",
    "\n",
    "    for i in sub_cortical:\n",
    "        out_degree_scale[10 * i:10 * (i + 1)] = 0.\n",
    "        out_degree_scale[10 * i + 6] = synapse_scale[i] * 1.\n",
    "        out_degree_scale[10 * i + 7] = synapse_scale[i] * 1.\n",
    "\n",
    "    \"\"\"\n",
    "    deal with outer_connection of cortical voxel\n",
    "    \"\"\"\n",
    "\n",
    "    index_cortical = np.in1d(conn_prob.coords[0], cortical)\n",
    "    coords_cortical = conn_prob.coords[:, index_cortical]\n",
    "    index_exclude = coords_cortical[0] != coords_cortical[1]\n",
    "    coords_cortical = coords_cortical[:, index_exclude]\n",
    "    index_cortical = np.where(index_cortical)[0][index_exclude]\n",
    "    corrds1 = np.empty(\n",
    "        [4, coords_cortical.shape[1] * lcm_connect_prob.shape[0] * int(lcm_connect_prob.shape[0] / 2)],\n",
    "        dtype=np.int64)  # 5 denotes:L1E, L2/3E, L4E, L5E, L6E\n",
    "\n",
    "    corrds1[3, :] = np.tile(np.repeat(np.arange(0, lcm_connect_prob.shape[0], 2), lcm_connect_prob.shape[0]),\n",
    "                            coords_cortical.shape[1]).reshape([1, -1])\n",
    "    corrds1[(0, 2), :] = np.broadcast_to(coords_cortical[:, :, None],\n",
    "                                         [2, coords_cortical.shape[1],\n",
    "                                          lcm_connect_prob.shape[0] * int(lcm_connect_prob.shape[0] / 2)]).reshape(\n",
    "        [2, -1])\n",
    "    corrds1[(1), :] = np.broadcast_to(np.arange(lcm_connect_prob.shape[0], dtype=np.int64)[None, :],\n",
    "                                      [coords_cortical.shape[1] * int(lcm_connect_prob.shape[0] / 2),\n",
    "                                       lcm_connect_prob.shape[0]]).reshape([1, -1])\n",
    "    data1 = conn_prob.data[index_cortical, None] * lcm_connect_prob[:, -1]\n",
    "    data1 = (data1[:, None, :] * weight[(coords_cortical[1]), :, None]).reshape([-1])\n",
    "\n",
    "    \"\"\"\n",
    "    deal with outer_connection of subcortical voxel\n",
    "    \"\"\"\n",
    "    index_subcortical = np.in1d(conn_prob.coords[0], sub_cortical)\n",
    "    coords_subcortical = conn_prob.coords[:, index_subcortical]\n",
    "    index_exclude = coords_subcortical[0] == coords_subcortical[\n",
    "        1]  # empty [], because diagonal matrix is zero in conn_prob\n",
    "    assert sum(index_exclude) == 0\n",
    "    coords3 = np.empty([4, coords_subcortical.shape[1] * 2 * int(lcm_connect_prob.shape[0] / 2)], dtype=np.int64)\n",
    "    coords3[3, :] = np.tile(np.repeat(np.arange(0, lcm_connect_prob.shape[0], 2), 2),\n",
    "                            coords_subcortical.shape[1]).reshape([1, -1])\n",
    "    coords3[(0, 2), :] = np.broadcast_to(coords_subcortical[:, :, None],\n",
    "                                         [2, coords_subcortical.shape[1],\n",
    "                                          2 * int(lcm_connect_prob.shape[0] / 2)]).reshape([2, -1])\n",
    "    coords3[(1), :] = np.broadcast_to(np.arange(6, 8, dtype=np.int64)[None, :],\n",
    "                                      [coords_subcortical.shape[1] * int(lcm_connect_prob.shape[0] / 2),\n",
    "                                       2]).reshape(\n",
    "        [1, -1])\n",
    "    index_sub = np.in1d(conn_prob.coords[0], sub_cortical)\n",
    "\n",
    "    data3 = conn_prob.data[index_sub, None] * lcm_connect_prob_subcortical[6:8, -1]\n",
    "    data3 = (data3[:, None, :] * weight[(coords_subcortical[1]), :, None]).reshape([-1])\n",
    "\n",
    "    \"\"\"\n",
    "    deal with inner_connection of cortical voxel\n",
    "    \"\"\"\n",
    "    lcm_connect_prob_inner = sparse.COO(lcm_connect_prob[:, :-1])\n",
    "    corrds2 = np.empty([4, cortical.shape[0] * lcm_connect_prob_inner.data.shape[0]], dtype=np.int64)\n",
    "    corrds2[0, :] = np.broadcast_to(cortical[:, None],\n",
    "                                    [cortical.shape[0], lcm_connect_prob_inner.data.shape[0]]).reshape([-1])\n",
    "    corrds2[2, :] = corrds2[0, :]\n",
    "    corrds2[(1, 3), :] = np.broadcast_to(lcm_connect_prob_inner.coords[:, None, :],\n",
    "                                         [2, cortical.shape[0], lcm_connect_prob_inner.coords.shape[1]]).reshape(\n",
    "        [2, -1])\n",
    "    data2 = np.broadcast_to(lcm_connect_prob_inner.data[None, :],\n",
    "                            [cortical.shape[0], lcm_connect_prob_inner.coords.shape[1]]).reshape([-1])\n",
    "\n",
    "    \"\"\"\n",
    "    deal with inner_connection of subcortical voxel\n",
    "    \"\"\"\n",
    "    lcm_connect_prob_inner_subcortical = sparse.COO(lcm_connect_prob_subcortical[:, :-1])\n",
    "    corrds4 = np.empty([4, sub_cortical.shape[0] * lcm_connect_prob_inner_subcortical.data.shape[0]],\n",
    "                           dtype=np.int64)\n",
    "    corrds4[0, :] = np.broadcast_to(sub_cortical[:, None],\n",
    "                                        [sub_cortical.shape[0],\n",
    "                                         lcm_connect_prob_inner_subcortical.data.shape[0]]).reshape(\n",
    "        [-1])\n",
    "    corrds4[2, :] = corrds4[0, :]\n",
    "    corrds4[(1, 3), :] = np.broadcast_to(lcm_connect_prob_inner_subcortical.coords[:, None, :],\n",
    "                                             [2, sub_cortical.shape[0],\n",
    "                                              lcm_connect_prob_inner_subcortical.coords.shape[1]]).reshape(\n",
    "        [2, -1])\n",
    "    data4 = np.broadcast_to(lcm_connect_prob_inner_subcortical.data[None, :],\n",
    "                                [sub_cortical.shape[0],\n",
    "                                 lcm_connect_prob_inner_subcortical.coords.shape[1]]).reshape(\n",
    "        [-1])\n",
    "\n",
    "    coords = np.concatenate([corrds1, corrds2, coords3, corrds4], axis=1)\n",
    "    data = np.concatenate([data1, data2, data3, data4], axis=0)\n",
    "    index = np.where(data)[0]\n",
    "    print(f\"process zero value in conn_prob {len(data)}-->{len(index)}\")\n",
    "    coords = coords[:, index]\n",
    "    data = data[index]\n",
    "    shape = [conn_prob.shape[0], lcm_connect_prob.shape[0], conn_prob.shape[1],\n",
    "             lcm_connect_prob.shape[1] - 1]\n",
    "    out_conn_prob = sparse.COO(coords=coords, data=data, shape=shape)\n",
    "\n",
    "    out_conn_prob = out_conn_prob.reshape((conn_prob.shape[0] * lcm_connect_prob.shape[0],\n",
    "                                           conn_prob.shape[1] * (lcm_connect_prob.shape[1] - 1)))\n",
    "    if conn_prob.shape[0] == 1:\n",
    "        out_conn_prob = out_conn_prob / out_conn_prob.sum(axis=1, keepdims=True)\n",
    "    return out_conn_prob, out_gm, out_degree_scale"
   ],
   "metadata": {
    "collapsed": false,
    "pycharm": {
     "name": "#%%\n"
    }
   }
  },
  {
   "cell_type": "code",
   "execution_count": 3,
   "outputs": [
    {
     "name": "stdout",
     "output_type": "stream",
     "text": [
      "[1.09630506 0.99055206 1.0880498  ... 0.17851233 0.12915402 0.08590899]\n",
      "[1.09630506 0.99055206 1.0880498  1.05871962 1.08559191 1.10163605\n",
      " 1.05567709 1.02360976 0.96676675 0.94891165]\n",
      "[0.23084637 0.23516016 0.27453202 0.22842564 0.28496552 0.20876866\n",
      " 0.26680689 0.17851233 0.12915402 0.08590899]\n"
     ]
    }
   ],
   "source": [
    "v1_index = np.where(hpc_label==181)[0]\n",
    "v1_synapse_scale = synapse_scale[v1_index].mean()\n",
    "# suppose v1 synapse is 100, then we assign number of synapse to all voxel\n",
    "synapse_scale = synapse_scale / v1_synapse_scale  # relative ratio of synapse scale\n",
    "print(synapse_scale)\n",
    "print(synapse_scale[:10])\n",
    "print(synapse_scale[-10:])\n",
    "degree_voxel = 100 * synapse_scale"
   ],
   "metadata": {
    "collapsed": false,
    "pycharm": {
     "name": "#%%\n"
    }
   }
  },
  {
   "cell_type": "code",
   "execution_count": 23,
   "outputs": [
    {
     "name": "stdout",
     "output_type": "stream",
     "text": [
      "process zero value in conn_prob 203706548-->122075380\n"
     ]
    },
    {
     "ename": "MemoryError",
     "evalue": "Unable to allocate 3.64 GiB for an array with shape (122075380, 4) and data type int64",
     "output_type": "error",
     "traceback": [
      "\u001B[1;31m---------------------------------------------------------------------------\u001B[0m",
      "\u001B[1;31mMemoryError\u001B[0m                               Traceback (most recent call last)",
      "Input \u001B[1;32mIn [23]\u001B[0m, in \u001B[0;36m<cell line: 11>\u001B[1;34m()\u001B[0m\n\u001B[0;32m      8\u001B[0m synapse_scale \u001B[38;5;241m=\u001B[39m synapse_scale \u001B[38;5;241m/\u001B[39m v1_synapse_scale  \u001B[38;5;66;03m# relative ratio of synapse scale\u001B[39;00m\n\u001B[0;32m     10\u001B[0m \u001B[38;5;66;03m# conn_prob means the correlation of total degree of a population, similar for synapse_scale.\u001B[39;00m\n\u001B[1;32m---> 11\u001B[0m pop_conn_prob, pop_block_size, pop_synapse_scale \u001B[38;5;241m=\u001B[39m \u001B[43m_add_laminar_cortex_include_subcortical_in_whole_brain\u001B[49m\u001B[43m(\u001B[49m\u001B[43mconn\u001B[49m\u001B[43m,\u001B[49m\u001B[43m \u001B[49m\u001B[43mgm\u001B[49m\u001B[43m,\u001B[49m\u001B[43m \u001B[49m\u001B[43msynapse_scale\u001B[49m\u001B[43m,\u001B[49m\u001B[43m \u001B[49m\u001B[43mbrain_parts\u001B[49m\u001B[43m)\u001B[49m\n\u001B[0;32m     13\u001B[0m popu_size \u001B[38;5;241m=\u001B[39m (pop_block_size \u001B[38;5;241m*\u001B[39m scale)\u001B[38;5;241m.\u001B[39mastype(np\u001B[38;5;241m.\u001B[39mint32)\n\u001B[0;32m     14\u001B[0m voxel_size \u001B[38;5;241m=\u001B[39m popu_size\u001B[38;5;241m.\u001B[39mreshape((\u001B[38;5;241m-\u001B[39m\u001B[38;5;241m1\u001B[39m, \u001B[38;5;241m10\u001B[39m))\u001B[38;5;241m.\u001B[39msum(axis\u001B[38;5;241m=\u001B[39m\u001B[38;5;241m1\u001B[39m)\n",
      "Input \u001B[1;32mIn [22]\u001B[0m, in \u001B[0;36m_add_laminar_cortex_include_subcortical_in_whole_brain\u001B[1;34m(conn_prob, gm, synapse_scale, brain_parts)\u001B[0m\n\u001B[0;32m    162\u001B[0m index \u001B[38;5;241m=\u001B[39m np\u001B[38;5;241m.\u001B[39mwhere(data)[\u001B[38;5;241m0\u001B[39m]\n\u001B[0;32m    163\u001B[0m \u001B[38;5;28mprint\u001B[39m(\u001B[38;5;124mf\u001B[39m\u001B[38;5;124m\"\u001B[39m\u001B[38;5;124mprocess zero value in conn_prob \u001B[39m\u001B[38;5;132;01m{\u001B[39;00m\u001B[38;5;28mlen\u001B[39m(data)\u001B[38;5;132;01m}\u001B[39;00m\u001B[38;5;124m-->\u001B[39m\u001B[38;5;132;01m{\u001B[39;00m\u001B[38;5;28mlen\u001B[39m(index)\u001B[38;5;132;01m}\u001B[39;00m\u001B[38;5;124m\"\u001B[39m)\n\u001B[1;32m--> 164\u001B[0m coords \u001B[38;5;241m=\u001B[39m \u001B[43mcoords\u001B[49m\u001B[43m[\u001B[49m\u001B[43m:\u001B[49m\u001B[43m,\u001B[49m\u001B[43m \u001B[49m\u001B[43mindex\u001B[49m\u001B[43m]\u001B[49m\n\u001B[0;32m    165\u001B[0m data \u001B[38;5;241m=\u001B[39m data[index]\n\u001B[0;32m    166\u001B[0m shape \u001B[38;5;241m=\u001B[39m [conn_prob\u001B[38;5;241m.\u001B[39mshape[\u001B[38;5;241m0\u001B[39m], lcm_connect_prob\u001B[38;5;241m.\u001B[39mshape[\u001B[38;5;241m0\u001B[39m], conn_prob\u001B[38;5;241m.\u001B[39mshape[\u001B[38;5;241m1\u001B[39m],\n\u001B[0;32m    167\u001B[0m          lcm_connect_prob\u001B[38;5;241m.\u001B[39mshape[\u001B[38;5;241m1\u001B[39m] \u001B[38;5;241m-\u001B[39m \u001B[38;5;241m1\u001B[39m]\n",
      "\u001B[1;31mMemoryError\u001B[0m: Unable to allocate 3.64 GiB for an array with shape (122075380, 4) and data type int64"
     ]
    }
   ],
   "source": [
    "degree = 100\n",
    "scale = int(5e8)\n",
    "\n",
    "v1_index = np.where(hpc_label==181)[0]\n",
    "v1_synapse_scale = synapse_scale[v1_index].mean()\n",
    "# suppose v1 synapse is 100, then we assign number of synapse to all voxel\n",
    "synapse_scale = synapse_scale / v1_synapse_scale  # relative ratio of synapse scale\n",
    "\n",
    "# conn_prob means the correlation of total degree of a population, similar for synapse_scale.\n",
    "pop_conn_prob, pop_block_size, pop_synapse_scale = _add_laminar_cortex_include_subcortical_in_whole_brain(conn, gm, synapse_scale, brain_parts)\n",
    "\n",
    "popu_size = (pop_block_size * scale).astype(np.int32)\n",
    "voxel_size = popu_size.reshape((-1, 10)).sum(axis=1)\n",
    "\n",
    "degree_voxel = degree * synapse_scale\n",
    "degree_popu = pop_synapse_scale * degree\n",
    "assert abs((degree_popu[:10] * pop_block_size[:10]).sum() / pop_block_size[:10].sum() - degree_voxel[0]) < 1e-4\n",
    "assert abs((degree_popu[-10:] * pop_block_size[-10:]).sum() / pop_block_size[-10:].sum() - degree_voxel[-1]) < 1e-4\n",
    "\n",
    "print(\"degree population\")\n",
    "print(degree_popu[:10])\n",
    "print(degree_popu[10:20])\n",
    "\n",
    "fig, ax= plt.subplots(2, 2, figsize=(8, 8))\n",
    "ax = ax.flatten()\n",
    "\n",
    "for idx, value in enumerate([voxel_size, popu_size, degree_voxel, degree_popu]):\n",
    "    value = value[value>0]\n",
    "    cnts, values, bars = ax[idx].hist(value, bins=30, rwidth=0.8)\n",
    "    newvalue = (value - value.min()) / (value.max() - value.min())\n",
    "    for i, (cnt, value_data, bar) in enumerate(zip(cnts, values, bars)):\n",
    "        bar.set_facecolor(cmap(newvalue[i]))\n",
    "    ax[idx].text(0.1, 1.0, f\"min{int(value.min())}->max{int(value.max())}\", transform=ax[idx].transAxes, va='top',fontsize=12,\n",
    "              bbox={'color':'r','alpha':0.4,})\n",
    "ax[0].set_xlabel(\"voxel size\")\n",
    "ax[1].set_xlabel(\"population size\")\n",
    "ax[2].set_xlabel(\"voxel degree\")\n",
    "ax[3].set_xlabel(\"population degree\")"
   ],
   "metadata": {
    "collapsed": false,
    "pycharm": {
     "name": "#%%\n"
    }
   }
  },
  {
   "cell_type": "code",
   "execution_count": 16,
   "outputs": [
    {
     "name": "stderr",
     "output_type": "stream",
     "text": [
      "C:\\Users\\dell\\AppData\\Local\\Temp\\ipykernel_14180\\428252382.py:41: FutureWarning: In future versions `DataFrame.to_latex` is expected to utilise the base implementation of `Styler.to_latex` for formatting and rendering. The arguments signature may therefore change. It is recommended instead to use `DataFrame.style.to_latex` which also contains additional functionality.\n",
      "  f.write(df.to_latex(bold_rows=True, longtable=True, multirow=True, multicolumn=True, escape=False, index=False,\n"
     ]
    }
   ],
   "source": [
    "import pandas as pd\n",
    "reader = pd.read_csv(\n",
    "    r\"E:\\PycarmProjects2\\DetailedDTB\\data\\raw_data\\HCPex_3mm_modified_label.csv\",\n",
    "    sep=\",\", header=0)\n",
    "uni_label = reader.iloc[:, 0]\n",
    "dic = dict()\n",
    "dic[\"Label\"] = list(reader.iloc[:, 0])\n",
    "dic[\"Degree(mean)\"] = []\n",
    "dic[\"Degree(std)\"] = []\n",
    "dic[\"Voxel_size(mean)\"] = []\n",
    "for label in uni_label:\n",
    "    index = np.where(hpc_label==label)[0]\n",
    "    if len(index)>0:\n",
    "        degree_mean = degree_voxel[index].mean()\n",
    "        degree_std = degree_voxel[index].std()\n",
    "        voxel_num = voxel_size[index].mean()\n",
    "    else:\n",
    "        degree_mean = None\n",
    "        degree_std = None\n",
    "        voxel_num = None\n",
    "    dic[\"Degree(mean)\"].append(degree_mean)\n",
    "    dic[\"Degree(std)\"].append(degree_std)\n",
    "    dic[\"Voxel_size(mean)\"].append(voxel_num)\n",
    "df_new = pd.DataFrame(dic)\n",
    "df = pd.merge(reader, df_new, how='outer',on='Label')\n",
    "df.head(5)\n",
    "df.to_csv(\"./processed_data/detailed_info.csv\")\n",
    "\n",
    "# write to latex\n",
    "column_format = '|l|c|c|l|c|c|c|c|'\n",
    "\n",
    "with open(os.path.join(\"./processed_data\", 'detailed_info.tex'), 'w') as f:\n",
    "    f.write(\"\"\"\n",
    "                \\\\documentclass[varwidth=25cm]{standalone}\n",
    "                \\\\usepackage{graphicx}\n",
    "                \\\\usepackage{longtable,booktabs}\n",
    "                \\\\usepackage{multirow}\n",
    "                \\\\usepackage{multicol}\n",
    "                \\\\begin{document}\n",
    "            \"\"\")\n",
    "    f.write(df.to_latex(bold_rows=True, longtable=True, multirow=True, multicolumn=True, escape=False, index=False,\n",
    "                           column_format=column_format))\n",
    "\n",
    "    f.write(\"\"\"\n",
    "                \\\\end{document}\n",
    "            \"\"\")"
   ],
   "metadata": {
    "collapsed": false,
    "pycharm": {
     "name": "#%%\n"
    }
   }
  },
  {
   "cell_type": "code",
   "execution_count": 9,
   "outputs": [
    {
     "name": "stdout",
     "output_type": "stream",
     "text": [
      "write processed data!\n"
     ]
    }
   ],
   "source": [
    "os.makedirs(\"./processed_data\", exist_ok=True)\n",
    "popu_size = popu_size / scale\n",
    "degree_popu = degree_popu / degree\n",
    "graph_file = {\"conn_prob\":pop_conn_prob, \"block_size\":popu_size, \"degree_scale\":degree_popu}\n",
    "with open(\"./processed_data/graph_whole_brain.pickle\", \"wb\") as f:\n",
    "    pickle.dump(graph_file, f)\n",
    "print(\"write processed data!\")"
   ],
   "metadata": {
    "collapsed": false,
    "pycharm": {
     "name": "#%%\n"
    }
   }
  }
 ],
 "metadata": {
  "kernelspec": {
   "display_name": "Python 3",
   "language": "python",
   "name": "python3"
  },
  "language_info": {
   "codemirror_mode": {
    "name": "ipython",
    "version": 2
   },
   "file_extension": ".py",
   "mimetype": "text/x-python",
   "name": "python",
   "nbconvert_exporter": "python",
   "pygments_lexer": "ipython2",
   "version": "2.7.6"
  }
 },
 "nbformat": 4,
 "nbformat_minor": 0
}